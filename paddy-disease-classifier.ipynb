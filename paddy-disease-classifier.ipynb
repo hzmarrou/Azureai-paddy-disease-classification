{
 "cells": [
  {
   "cell_type": "markdown",
   "metadata": {},
   "source": [
    "### Import Azure Custum Vision libraries  "
   ]
  },
  {
   "cell_type": "code",
   "execution_count": 1,
   "metadata": {},
   "outputs": [
    {
     "data": {
      "text/plain": [
       "True"
      ]
     },
     "execution_count": 1,
     "metadata": {},
     "output_type": "execute_result"
    }
   ],
   "source": [
    "from azure.cognitiveservices.vision.customvision.training import CustomVisionTrainingClient\n",
    "from azure.cognitiveservices.vision.customvision.prediction import CustomVisionPredictionClient\n",
    "from azure.cognitiveservices.vision.customvision.training.models import ImageFileCreateBatch, ImageFileCreateEntry, Region\n",
    "from msrest.authentication import ApiKeyCredentials\n",
    "from dotenv import load_dotenv\n",
    "import os\n",
    "load_dotenv()\n"
   ]
  },
  {
   "cell_type": "markdown",
   "metadata": {},
   "source": [
    "### Load the configuaration parameters   "
   ]
  },
  {
   "cell_type": "code",
   "execution_count": 2,
   "metadata": {},
   "outputs": [],
   "source": [
    "# retrieve environment variables\n",
    "ENDPOINT = os.getenv(\"VISION_TRAINING_ENDPOINT\")\n",
    "training_key = os.getenv(\"VISION_TRAINING_KEY\")\n",
    "prediction_key = os.getenv(\"VISION_PREDICTION_KEY\")\n",
    "prediction_resource_id = os.getenv(\"VISION_PREDICTION_RESOURCE_ID\")\n",
    "project_id = os.getenv(\"VISION_PROJECT_ID\")\n",
    "publish_iteration_name = os.getenv(\"PUBLISHED_MODEL_NAME\")\n"
   ]
  },
  {
   "cell_type": "markdown",
   "metadata": {},
   "source": [
    "### Test the prediction endpoint\n",
    "To send an image to the prediction endpoint and retrieve the prediction, add the following code to the end of the file:"
   ]
  },
  {
   "cell_type": "code",
   "execution_count": 3,
   "metadata": {},
   "outputs": [
    {
     "name": "stdout",
     "output_type": "stream",
     "text": [
      "\tblast: 91.75%\n",
      "\tbrown_spot: 4.57%\n",
      "\tdowny_mildew: 2.34%\n",
      "\tbacterial_leaf_blight: 0.87%\n",
      "\thispa: 0.35%\n",
      "\ttungro: 0.09%\n",
      "\tbacterial_panicle_blight: 0.02%\n",
      "\tdead_heart: 0.01%\n",
      "\tbacterial_leaf_streak: 0.01%\n",
      "\tnormal: 0.00%\n"
     ]
    }
   ],
   "source": [
    "## base_image_location = os.path.join (os.path.dirname(__file__), \"train_images\")\n",
    "\n",
    "base_image_location = r\"C:\\Users\\hzmarrou\\Downloads\\paddy-disease-classification\\train_images\"\n",
    "\n",
    "# Now there is a trained endpoint that can be used to make a prediction\n",
    "prediction_credentials = ApiKeyCredentials(in_headers={\"Prediction-key\": prediction_key})\n",
    "predictor = CustomVisionPredictionClient(ENDPOINT, prediction_credentials)\n",
    "\n",
    "with open(os.path.join (base_image_location, \"blast/110406.jpg\"), \"rb\") as image_contents:\n",
    "    results = predictor.classify_image(\n",
    "        project_id, publish_iteration_name, image_contents.read())\n",
    "\n",
    "    # Display the results.\n",
    "    for prediction in results.predictions:\n",
    "        print(\"\\t\" + prediction.tag_name +\n",
    "              \": {0:.2f}%\".format(prediction.probability * 100))\n",
    "\n"
   ]
  },
  {
   "cell_type": "markdown",
   "metadata": {},
   "source": [
    "The Custom Vision portal provides a convenient user interface that you can use to upload and tag images, and train models. However, in some scenarios you may want to automate model training by using the Custom Vision training API.\n",
    "\n",
    "In Visual Studio Code, in the Explorer pane, browse to the 07-custom-vision-image-classification folder and expand the C-Sharp or Python folder depending on your language preference.\n",
    "\n",
    "https://learn.microsoft.com/en-us/azure/ai-services/custom-vision-service/quickstarts/image-classification?tabs=windows%2Cvisual-studio&pivots=programming-language-python"
   ]
  },
  {
   "cell_type": "markdown",
   "metadata": {},
   "source": []
  }
 ],
 "metadata": {
  "kernelspec": {
   "display_name": ".venv",
   "language": "python",
   "name": "python3"
  },
  "language_info": {
   "codemirror_mode": {
    "name": "ipython",
    "version": 3
   },
   "file_extension": ".py",
   "mimetype": "text/x-python",
   "name": "python",
   "nbconvert_exporter": "python",
   "pygments_lexer": "ipython3",
   "version": "3.12.8"
  }
 },
 "nbformat": 4,
 "nbformat_minor": 2
}
